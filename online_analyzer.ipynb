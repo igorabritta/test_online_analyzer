{
 "cells": [
  {
   "cell_type": "markdown",
   "id": "5e2d9b5d-e297-4df9-bf7d-c4bb2f16e0af",
   "metadata": {},
   "source": [
    "## Step 2: Loading data and Analyzing them"
   ]
  },
  {
   "cell_type": "code",
   "execution_count": 1,
   "id": "0252035f-f79a-43ca-8336-618cd3306482",
   "metadata": {},
   "outputs": [
    {
     "name": "stdout",
     "output_type": "stream",
     "text": [
      "Welcome to JupyROOT 6.24/06\n"
     ]
    }
   ],
   "source": [
    "import numpy as np\n",
    "import os\n",
    "import time\n",
    "import ROOT\n",
    "from root_numpy import hist2array\n",
    "import pre_reconstruction as pr"
   ]
  },
  {
   "cell_type": "code",
   "execution_count": 2,
   "id": "5d3dffe8-3dde-4460-a0dc-9768aae8a0cf",
   "metadata": {},
   "outputs": [
    {
     "name": "stdout",
     "output_type": "stream",
     "text": [
      "Pedestal loaded\n"
     ]
    }
   ],
   "source": [
    "## Loading pedestal\n",
    "pedfilename = \"pedestals/pedmap_run6314_rebin1.root\"\n",
    "try:\n",
    "    pedrf_fr = ROOT.TFile.Open(pedfilename)\n",
    "    \n",
    "    pedmap_fr = pedrf_fr.Get('pedmap').Clone()\n",
    "    pedmap_fr.SetDirectory(0)\n",
    "    pedarr_fr = hist2array(pedmap_fr).T\n",
    "    \n",
    "    sigmap_fr = pedrf_fr.Get('pedmapsigma').Clone()\n",
    "    sigmap_fr.SetDirectory(0)\n",
    "    sigarr_fr = hist2array(sigmap_fr).T\n",
    "    \n",
    "    pedrf_fr.Close()\n",
    "    print (\"Pedestal loaded\")\n",
    "except:\n",
    "    print (\"No Pedestal file for this run\")\n",
    "    print (\"STOP\")\n"
   ]
  },
  {
   "cell_type": "code",
   "execution_count": 3,
   "id": "29b12976-b4e2-40ed-9c7b-091a990299ce",
   "metadata": {},
   "outputs": [
    {
     "name": "stdout",
     "output_type": "stream",
     "text": [
      "New image arrived\n",
      "Analyzing Run06332 Image 0000\n",
      "Step 1: Clusterization: 2.10 seconds / 0.03 minutes\n",
      "Step 2: Cluster information: 3.17 seconds / 0.05 minutes\n",
      "Step 3: Variables calculation: 0.38 seconds / 0.01 minutes\n",
      "Total Elapsed time: 6.04 seconds / 0.10 minutes\n",
      "Table not found\n",
      "New image arrived\n",
      "Analyzing Run06332 Image 0001\n",
      "Step 1: Clusterization: 0.50 seconds / 0.01 minutes\n",
      "Step 2: Cluster information: 3.58 seconds / 0.06 minutes\n",
      "Step 3: Variables calculation: 0.33 seconds / 0.01 minutes\n",
      "Total Elapsed time: 4.74 seconds / 0.08 minutes\n",
      "Found Table\n",
      "New image arrived\n",
      "Analyzing Run06332 Image 0002\n",
      "Step 1: Clusterization: 0.29 seconds / 0.00 minutes\n",
      "Step 2: Cluster information: 1.52 seconds / 0.03 minutes\n",
      "Step 3: Variables calculation: 0.12 seconds / 0.00 minutes\n",
      "Total Elapsed time: 2.24 seconds / 0.04 minutes\n",
      "Found Table\n",
      "New image arrived\n",
      "Analyzing Run06332 Image 0003\n",
      "Step 1: Clusterization: 0.35 seconds / 0.01 minutes\n",
      "Step 2: Cluster information: 2.37 seconds / 0.04 minutes\n",
      "Step 3: Variables calculation: 0.20 seconds / 0.00 minutes\n",
      "Total Elapsed time: 3.24 seconds / 0.05 minutes\n",
      "Found Table\n",
      "Waiting for the next image\n",
      "Waiting for the next image\n",
      "Waiting for the next image\n",
      "Waiting for the next image\n",
      "Waiting for the next image\n"
     ]
    },
    {
     "ename": "KeyboardInterrupt",
     "evalue": "",
     "output_type": "error",
     "traceback": [
      "\u001b[0;31m---------------------------------------------------------------------------\u001b[0m",
      "\u001b[0;31mKeyboardInterrupt\u001b[0m                         Traceback (most recent call last)",
      "\u001b[0;32m<ipython-input-3-730bdac88665>\u001b[0m in \u001b[0;36m<module>\u001b[0;34m\u001b[0m\n\u001b[1;32m     22\u001b[0m     \u001b[0;32melse\u001b[0m\u001b[0;34m:\u001b[0m\u001b[0;34m\u001b[0m\u001b[0;34m\u001b[0m\u001b[0m\n\u001b[1;32m     23\u001b[0m         \u001b[0mprint\u001b[0m \u001b[0;34m(\u001b[0m\u001b[0;34m\"Waiting for the next image\"\u001b[0m\u001b[0;34m)\u001b[0m\u001b[0;34m\u001b[0m\u001b[0;34m\u001b[0m\u001b[0m\n\u001b[0;32m---> 24\u001b[0;31m         \u001b[0mtime\u001b[0m\u001b[0;34m.\u001b[0m\u001b[0msleep\u001b[0m\u001b[0;34m(\u001b[0m\u001b[0;36m5\u001b[0m\u001b[0;34m)\u001b[0m\u001b[0;34m\u001b[0m\u001b[0;34m\u001b[0m\u001b[0m\n\u001b[0m\u001b[1;32m     25\u001b[0m         \u001b[0mj\u001b[0m\u001b[0;34m+=\u001b[0m\u001b[0;36m1\u001b[0m\u001b[0;34m\u001b[0m\u001b[0;34m\u001b[0m\u001b[0m\n",
      "\u001b[0;31mKeyboardInterrupt\u001b[0m: "
     ]
    }
   ],
   "source": [
    "runnumber = 6332\n",
    "i = 0\n",
    "j = 0 \n",
    "while(j < 50):\n",
    "    \n",
    "    if os.path.isfile(\"arriving/run%05d_image%04d.npy\" % (runnumber,i)):\n",
    "        \n",
    "        print (\"New image arrived\")\n",
    "        print (\"Analyzing Run%05d Image %04d\"% (runnumber,i))\n",
    "        ## Load image\n",
    "        arr = np.load(\"arriving/run%05d_image%04d.npy\" % (runnumber,i))\n",
    "        ## Include some reconstruction code here\n",
    "        #\n",
    "        variables = pr.pre_reconstruction(arr,runnumber,i,pedarr_fr,sigarr_fr,printtime=True)\n",
    "        \n",
    "        df = pr.opendata_table('raw_data.csv')\n",
    "        pr.savedata_totable(df,variables)\n",
    "        \n",
    "        #\n",
    "        #############\n",
    "        i+=1\n",
    "    else:\n",
    "        print (\"Waiting for the next image\")\n",
    "        time.sleep(5)\n",
    "        j+=1"
   ]
  },
  {
   "cell_type": "code",
   "execution_count": null,
   "id": "53f00cae-9b68-4e81-9f9e-70f161606b6b",
   "metadata": {},
   "outputs": [],
   "source": []
  }
 ],
 "metadata": {
  "kernelspec": {
   "display_name": "Python 3",
   "language": "python",
   "name": "python3"
  },
  "language_info": {
   "codemirror_mode": {
    "name": "ipython",
    "version": 3
   },
   "file_extension": ".py",
   "mimetype": "text/x-python",
   "name": "python",
   "nbconvert_exporter": "python",
   "pygments_lexer": "ipython3",
   "version": "3.6.8"
  }
 },
 "nbformat": 4,
 "nbformat_minor": 5
}
