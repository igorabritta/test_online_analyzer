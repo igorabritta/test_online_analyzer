{
 "cells": [
  {
   "cell_type": "markdown",
   "id": "5e2d9b5d-e297-4df9-bf7d-c4bb2f16e0af",
   "metadata": {},
   "source": [
    "## Step 2: Loading data and Analyzing them"
   ]
  },
  {
   "cell_type": "code",
   "execution_count": 1,
   "id": "0252035f-f79a-43ca-8336-618cd3306482",
   "metadata": {},
   "outputs": [],
   "source": [
    "import numpy as np\n",
    "import os.path\n",
    "import time"
   ]
  },
  {
   "cell_type": "code",
   "execution_count": 2,
   "id": "5d3dffe8-3dde-4460-a0dc-9768aae8a0cf",
   "metadata": {},
   "outputs": [],
   "source": [
    "i = 0\n",
    "runnumber = 6332\n",
    "arr = np.load(\"arriving/run%05d_image%04d.npy\" % (runnumber,i))"
   ]
  },
  {
   "cell_type": "code",
   "execution_count": 6,
   "id": "29b12976-b4e2-40ed-9c7b-091a990299ce",
   "metadata": {},
   "outputs": [
    {
     "name": "stdout",
     "output_type": "stream",
     "text": [
      "Waiting for the next image\n",
      "Waiting for the next image\n",
      "Waiting for the next image\n",
      "Waiting for the next image\n",
      "New image arrived\n",
      "Analyzing Run06332 Image 0001\n",
      "Waiting for the next image\n",
      "New image arrived\n",
      "Analyzing Run06332 Image 0002\n",
      "Waiting for the next image\n",
      "New image arrived\n",
      "Analyzing Run06332 Image 0003\n",
      "Waiting for the next image\n",
      "New image arrived\n",
      "Analyzing Run06332 Image 0004\n",
      "Waiting for the next image\n",
      "Waiting for the next image\n",
      "Waiting for the next image\n",
      "Waiting for the next image\n",
      "Waiting for the next image\n",
      "Waiting for the next image\n",
      "Waiting for the next image\n",
      "Waiting for the next image\n",
      "Waiting for the next image\n",
      "Waiting for the next image\n",
      "Waiting for the next image\n"
     ]
    },
    {
     "ename": "KeyboardInterrupt",
     "evalue": "",
     "output_type": "error",
     "traceback": [
      "\u001b[0;31m---------------------------------------------------------------------------\u001b[0m",
      "\u001b[0;31mKeyboardInterrupt\u001b[0m                         Traceback (most recent call last)",
      "\u001b[0;32m<ipython-input-6-ebee06743b1f>\u001b[0m in \u001b[0;36m<module>\u001b[0;34m\u001b[0m\n\u001b[1;32m     11\u001b[0m     \u001b[0;32melse\u001b[0m\u001b[0;34m:\u001b[0m\u001b[0;34m\u001b[0m\u001b[0;34m\u001b[0m\u001b[0m\n\u001b[1;32m     12\u001b[0m         \u001b[0mprint\u001b[0m \u001b[0;34m(\u001b[0m\u001b[0;34m\"Waiting for the next image\"\u001b[0m\u001b[0;34m)\u001b[0m\u001b[0;34m\u001b[0m\u001b[0;34m\u001b[0m\u001b[0m\n\u001b[0;32m---> 13\u001b[0;31m         \u001b[0mtime\u001b[0m\u001b[0;34m.\u001b[0m\u001b[0msleep\u001b[0m\u001b[0;34m(\u001b[0m\u001b[0;36m5\u001b[0m\u001b[0;34m)\u001b[0m\u001b[0;34m\u001b[0m\u001b[0;34m\u001b[0m\u001b[0m\n\u001b[0m\u001b[1;32m     14\u001b[0m         \u001b[0mj\u001b[0m\u001b[0;34m+=\u001b[0m\u001b[0;36m1\u001b[0m\u001b[0;34m\u001b[0m\u001b[0;34m\u001b[0m\u001b[0m\n",
      "\u001b[0;31mKeyboardInterrupt\u001b[0m: "
     ]
    }
   ],
   "source": [
    "i = 0\n",
    "j = 0 \n",
    "while(j < 50):\n",
    "    \n",
    "    if os.path.isfile(\"arriving/run%05d_image%04d.npy\" % (runnumber,i)):\n",
    "        \n",
    "        print (\"New image arrived\")\n",
    "        print (\"Analyzing Run%05d Image %04d\"% (runnumber,i))\n",
    "        ## Include some reconstruction code here\n",
    "        #\n",
    "        \n",
    "        \n",
    "        #\n",
    "        #############\n",
    "        i+=1\n",
    "    else:\n",
    "        print (\"Waiting for the next image\")\n",
    "        time.sleep(5)\n",
    "        j+=1"
   ]
  },
  {
   "cell_type": "code",
   "execution_count": null,
   "id": "80af40cf-9b6f-475a-ad7a-c74d687e4a5c",
   "metadata": {},
   "outputs": [],
   "source": []
  }
 ],
 "metadata": {
  "kernelspec": {
   "display_name": "Python 3",
   "language": "python",
   "name": "python3"
  },
  "language_info": {
   "codemirror_mode": {
    "name": "ipython",
    "version": 3
   },
   "file_extension": ".py",
   "mimetype": "text/x-python",
   "name": "python",
   "nbconvert_exporter": "python",
   "pygments_lexer": "ipython3",
   "version": "3.6.8"
  }
 },
 "nbformat": 4,
 "nbformat_minor": 5
}
